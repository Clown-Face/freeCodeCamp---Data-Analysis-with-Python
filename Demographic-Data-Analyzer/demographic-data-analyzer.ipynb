{
 "cells": [
  {
   "cell_type": "code",
   "execution_count": 1,
   "metadata": {},
   "outputs": [],
   "source": [
    "import pandas as pd"
   ]
  },
  {
   "cell_type": "code",
   "execution_count": 2,
   "metadata": {},
   "outputs": [],
   "source": [
    "# Read data from file\n",
    "df = pd.read_csv('adult.data.csv')\n",
    "df.rename(columns={'fnlwgt':'population'}, inplace=True)"
   ]
  },
  {
   "cell_type": "code",
   "execution_count": 3,
   "metadata": {},
   "outputs": [],
   "source": [
    "# How many of each race are represented in this dataset? This should be a Pandas series with race names as the index labels.\n",
    "race_count = df['race'].value_counts()"
   ]
  },
  {
   "cell_type": "code",
   "execution_count": 4,
   "metadata": {},
   "outputs": [],
   "source": [
    "# What is the average age of men?\n",
    "men_age = df.loc[df['sex']=='Male','age'].mean()\n",
    "average_age_men = round(men_age,1)"
   ]
  },
  {
   "cell_type": "code",
   "execution_count": 14,
   "metadata": {},
   "outputs": [],
   "source": [
    "# What is the percentage of people who have a Bachelor's degree?\n",
    "be_num = len(df.loc[df['education']=='Bachelors'])\n",
    "pop_num = len(df)\n",
    "percentage_bachelors = round((be_num/pop_num)*100,1)"
   ]
  },
  {
   "cell_type": "code",
   "execution_count": 16,
   "metadata": {},
   "outputs": [],
   "source": [
    "# What percentage of people with advanced education (`Bachelors`, `Masters`, or `Doctorate`) make more than 50K?\n",
    "# What percentage of people without advanced education make more than 50K?\n",
    "df_adv = df[df['education'].isin(['Bachelors','Masters','Doctorate'])]\n",
    "df_low = df[~df['education'].isin(['Bachelors','Masters','Doctorate'])]\n",
    "adv_rich = len(df_adv[df_adv['salary']=='>50K'])\n",
    "low_rich = len(df_low[df_low['salary']=='>50K'])"
   ]
  },
  {
   "cell_type": "code",
   "execution_count": 17,
   "metadata": {},
   "outputs": [],
   "source": [
    "# with and without `Bachelors`, `Masters`, or `Doctorate`\n",
    "higher_education = len(df_adv)\n",
    "lower_education = len(df_low)"
   ]
  },
  {
   "cell_type": "code",
   "execution_count": 18,
   "metadata": {},
   "outputs": [],
   "source": [
    "# percentage with salary >50K\n",
    "higher_education_rich = round((adv_rich/higher_education)*100,1)\n",
    "lower_education_rich = round((low_rich/lower_education)*100,1)"
   ]
  },
  {
   "cell_type": "code",
   "execution_count": 9,
   "metadata": {},
   "outputs": [],
   "source": [
    "# What is the minimum number of hours a person works per week (hours-per-week feature)?\n",
    "min_work_hours = df['hours-per-week'].min()"
   ]
  },
  {
   "cell_type": "code",
   "execution_count": 20,
   "metadata": {},
   "outputs": [],
   "source": [
    "# What percentage of the people who work the minimum number of hours per week have a salary of >50K?\n",
    "df_min = df[df['hours-per-week']<=1]\n",
    "num_min_workers = len(df_min)\n",
    "\n",
    "min_rich = len(df_min.loc[df_min['salary']=='>50K'])\n",
    "rich_percentage = round((min_rich/num_min_workers)*100,1)"
   ]
  },
  {
   "cell_type": "code",
   "execution_count": 39,
   "metadata": {},
   "outputs": [],
   "source": [
    "# What country has the highest percentage of people that earn >50K? \n",
    "\"\"\"\n",
    "(BY POPULATION)\n",
    "df_salary_table = df.loc[df['salary']=='>50K']\n",
    "d1 = df_salary_table.groupby('native-country').sum()['population']\n",
    "d2 = df.groupby('native-country').sum()['population']\n",
    "d3 = round(d1/d2,3)*100\n",
    "highest_earning_country = d3.idxmax()\n",
    "highest_earning_country_percentage = d3.max()\n",
    "\"\"\"\n",
    "df_salary = df.loc[df['salary']=='>50K']\n",
    "num_rich = df_salary['native-country'].value_counts()\n",
    "num_country = df['native-country'].value_counts()\n",
    "df_rich = num_rich/num_country\n",
    "rich = df_rich.sort_values(ascending=False)\n",
    "highest_earning_country = df_rich.idxmax()\n",
    "highest_earning_country_percentage = round(df_rich.max()*100,1)\n"
   ]
  },
  {
   "cell_type": "code",
   "execution_count": 43,
   "metadata": {},
   "outputs": [],
   "source": [
    "# Identify the most popular occupation for those who earn >50K in India.\n",
    "df_india = df[df['native-country']=='India']\n",
    "df_popular = df_india['occupation'].value_counts()\n",
    "top_IN_occupation = df_popular.idxmax()"
   ]
  },
  {
   "cell_type": "code",
   "execution_count": 44,
   "metadata": {},
   "outputs": [
    {
     "name": "stdout",
     "output_type": "stream",
     "text": [
      "Number of each race:\n",
      " White                 27816\n",
      "Black                  3124\n",
      "Asian-Pac-Islander     1039\n",
      "Amer-Indian-Eskimo      311\n",
      "Other                   271\n",
      "Name: race, dtype: int64\n",
      "Average age of men: 39.4\n",
      "Percentage with Bachelors degrees: 16.4%\n",
      "Percentage with higher education that earn >50K: 46.5%\n",
      "Percentage without higher education that earn >50K: 17.4%\n",
      "Min work time: 1 hours/week\n",
      "Percentage of rich among those who work fewest hours: 10.0%\n",
      "Country with highest percentage of rich: Iran\n",
      "Highest percentage of rich people in country: 41.9%\n",
      "Top occupations in India: Prof-specialty\n"
     ]
    }
   ],
   "source": [
    "print(\"Number of each race:\\n\", race_count) \n",
    "print(\"Average age of men:\", average_age_men)\n",
    "print(f\"Percentage with Bachelors degrees: {percentage_bachelors}%\")\n",
    "print(f\"Percentage with higher education that earn >50K: {higher_education_rich}%\")\n",
    "print(f\"Percentage without higher education that earn >50K: {lower_education_rich}%\")\n",
    "print(f\"Min work time: {min_work_hours} hours/week\")\n",
    "print(f\"Percentage of rich among those who work fewest hours: {rich_percentage}%\")\n",
    "print(\"Country with highest percentage of rich:\", highest_earning_country)\n",
    "print(f\"Highest percentage of rich people in country: {highest_earning_country_percentage}%\")\n",
    "print(\"Top occupations in India:\", top_IN_occupation)"
   ]
  },
  {
   "cell_type": "code",
   "execution_count": null,
   "metadata": {},
   "outputs": [],
   "source": []
  }
 ],
 "metadata": {
  "kernelspec": {
   "display_name": "Python 3",
   "language": "python",
   "name": "python3"
  },
  "language_info": {
   "codemirror_mode": {
    "name": "ipython",
    "version": 3
   },
   "file_extension": ".py",
   "mimetype": "text/x-python",
   "name": "python",
   "nbconvert_exporter": "python",
   "pygments_lexer": "ipython3",
   "version": "3.7.3"
  }
 },
 "nbformat": 4,
 "nbformat_minor": 2
}
