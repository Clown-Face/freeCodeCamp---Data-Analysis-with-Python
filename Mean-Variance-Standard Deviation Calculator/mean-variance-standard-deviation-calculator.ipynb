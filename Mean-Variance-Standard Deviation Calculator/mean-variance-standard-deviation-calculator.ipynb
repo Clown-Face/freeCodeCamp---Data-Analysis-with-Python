{
 "cells": [
  {
   "cell_type": "code",
   "execution_count": 16,
   "metadata": {},
   "outputs": [],
   "source": [
    "import numpy as np"
   ]
  },
  {
   "cell_type": "code",
   "execution_count": 29,
   "metadata": {},
   "outputs": [],
   "source": [
    "def calculate(list):\n",
    "    #Exception Handling\n",
    "    new_mat = np.array(list)\n",
    "    try:\n",
    "        new_mat = new_mat.reshape(3,3)\n",
    "        print(new_mat)\n",
    "    except ValueError:\n",
    "        raise ValueError ('List must contain nine numbers.') from None\n",
    "    listDict = {}\n",
    "    for i in range(12):\n",
    "        listDict[f'lt_{i}']=[]\n",
    "    for i in range(0,3):\n",
    "        x=new_mat[i,:]\n",
    "        y=new_mat[:,i]        \n",
    "        listDict['lt_0'].append(x.mean())\n",
    "        listDict['lt_1'].append(y.mean())\n",
    "        listDict['lt_2'].append(x.var())\n",
    "        listDict['lt_3'].append(y.var())\n",
    "        listDict['lt_4'].append(x.std())\n",
    "        listDict['lt_5'].append(y.std())\n",
    "        listDict['lt_6'].append(x.max())\n",
    "        listDict['lt_7'].append(y.max())\n",
    "        listDict['lt_8'].append(x.min())\n",
    "        listDict['lt_9'].append(y.min())\n",
    "        listDict['lt_10'].append(x.sum())\n",
    "        listDict['lt_11'].append(y.sum())\n",
    "    mat_mean = [listDict['lt_1'], listDict['lt_0'], new_mat.mean()]\n",
    "    mat_var=[listDict['lt_3'], listDict['lt_2'], new_mat.var()]\n",
    "    mat_std = [listDict['lt_5'], listDict['lt_4'], new_mat.std()]\n",
    "    mat_max = [listDict['lt_7'], listDict['lt_6'], new_mat.max()]\n",
    "    mat_min = [listDict['lt_9'], listDict['lt_8'], new_mat.min()]\n",
    "    mat_sum = [listDict['lt_11'], listDict['lt_10'], new_mat.sum()]\n",
    "    output = {\n",
    "        'mean': mat_mean,\n",
    "        'variance': mat_var,\n",
    "        'standard deviation': mat_std,\n",
    "        'max': mat_max,\n",
    "        'min': mat_min,\n",
    "        'sum': mat_sum\n",
    "      }\n",
    "    return output"
   ]
  },
  {
   "cell_type": "code",
   "execution_count": 30,
   "metadata": {},
   "outputs": [
    {
     "name": "stdout",
     "output_type": "stream",
     "text": [
      "[[2 6 2]\n",
      " [8 4 0]\n",
      " [1 5 7]]\n"
     ]
    },
    {
     "data": {
      "text/plain": [
       "{'mean': [[3.6666666666666665, 5.0, 3.0],\n",
       "  [3.3333333333333335, 4.0, 4.333333333333333],\n",
       "  3.888888888888889],\n",
       " 'variance': [[9.555555555555557, 0.6666666666666666, 8.666666666666666],\n",
       "  [3.555555555555556, 10.666666666666666, 6.222222222222221],\n",
       "  6.987654320987654],\n",
       " 'standard deviation': [[3.091206165165235,\n",
       "   0.816496580927726,\n",
       "   2.943920288775949],\n",
       "  [1.8856180831641267, 3.265986323710904, 2.494438257849294],\n",
       "  2.6434171674156266],\n",
       " 'max': [[8, 6, 7], [6, 8, 7], 8],\n",
       " 'min': [[1, 4, 0], [2, 0, 1], 0],\n",
       " 'sum': [[11, 15, 9], [10, 12, 13], 35]}"
      ]
     },
     "execution_count": 30,
     "metadata": {},
     "output_type": "execute_result"
    }
   ],
   "source": [
    "calculate([2,6,2,8,4,0,1,5,7])"
   ]
  },
  {
   "cell_type": "code",
   "execution_count": null,
   "metadata": {},
   "outputs": [],
   "source": []
  }
 ],
 "metadata": {
  "kernelspec": {
   "display_name": "Python 3",
   "language": "python",
   "name": "python3"
  },
  "language_info": {
   "codemirror_mode": {
    "name": "ipython",
    "version": 3
   },
   "file_extension": ".py",
   "mimetype": "text/x-python",
   "name": "python",
   "nbconvert_exporter": "python",
   "pygments_lexer": "ipython3",
   "version": "3.7.3"
  }
 },
 "nbformat": 4,
 "nbformat_minor": 2
}
